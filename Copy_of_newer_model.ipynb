{
  "nbformat": 4,
  "nbformat_minor": 0,
  "metadata": {
    "colab": {
      "name": "Copy of newer_model.ipynb",
      "version": "0.3.2",
      "provenance": [],
      "collapsed_sections": [],
      "include_colab_link": true
    },
    "kernelspec": {
      "name": "python3",
      "display_name": "Python 3"
    }
  },
  "cells": [
    {
      "cell_type": "markdown",
      "metadata": {
        "id": "view-in-github",
        "colab_type": "text"
      },
      "source": [
        "<a href=\"https://colab.research.google.com/github/jawnpaul/Mlmodels/blob/master/Copy_of_newer_model.ipynb\" target=\"_parent\"><img src=\"https://colab.research.google.com/assets/colab-badge.svg\" alt=\"Open In Colab\"/></a>"
      ]
    },
    {
      "cell_type": "code",
      "metadata": {
        "id": "V-UyUGzeJLNV",
        "colab_type": "code",
        "outputId": "4257b9b4-9598-4abc-ed18-e62608d99259",
        "colab": {
          "base_uri": "https://localhost:8080/",
          "height": 34
        }
      },
      "source": [
        "import numpy as np\n",
        "from numpy import genfromtxt\n",
        "\n",
        "import tensorflow as tf\n",
        "from tensorflow import keras\n",
        "import datetime as dt\n",
        "\n",
        "from tensorflow.contrib import lite\n",
        "\n",
        "my_data = genfromtxt('WMT.csv', delimiter=',')\n",
        "\n",
        "\n",
        "\n",
        "#Ignore the first row \n",
        "my_data = (my_data[1:])\n",
        "#print(my_data.shape)\n",
        "\n",
        "#Ignore the first column\n",
        "my_data = (my_data[:,1:])\n",
        "#print(my_data.shape)\n",
        "\n",
        "#From 20 to the end\n",
        "train_data = (my_data[20:])\n",
        "#print(train_data.shape)\n",
        "#print(train_data)\n",
        "\n",
        "\n",
        "#From beginning to 20\n",
        "test_data = (my_data[:20])\n",
        "#print(test_data.shape)\n",
        "#print(test_data)\n",
        "\n",
        "#Get the price column\n",
        "#price_data = my_data[:,3]\n",
        "#print(price_data)\n",
        "\n",
        "#THe labels are the prices\n",
        "train_labels = train_data[:,3]\n",
        "\n",
        "test_labels = test_data[:,3]\n",
        "\n",
        "\n",
        "\n",
        "# Shuffle the training set\n",
        "order = np.argsort(np.random.random(train_labels.shape))\n",
        "train_data = train_data[order]\n",
        "train_labels = train_labels[order]\n",
        "\n",
        "#this deletes the price column\n",
        "#my_data = np.delete(my_data, 3, 1)\n",
        "#print(my_data)\n",
        "dd = list(train_data[0])\n",
        "print(len(dd))"
      ],
      "execution_count": 157,
      "outputs": [
        {
          "output_type": "stream",
          "text": [
            "5\n"
          ],
          "name": "stdout"
        }
      ]
    },
    {
      "cell_type": "code",
      "metadata": {
        "id": "-JQ7GxzLJ8_P",
        "colab_type": "code",
        "outputId": "38113358-6edf-412b-8937-0b3330e48af5",
        "colab": {
          "base_uri": "https://localhost:8080/",
          "height": 51
        }
      },
      "source": [
        "print(\"Training set: {}\".format(train_data.shape))  # 70 examples, 5 features\n",
        "print(\"Testing set:  {}\".format(test_data.shape))   # 30 examples, 5 features"
      ],
      "execution_count": 158,
      "outputs": [
        {
          "output_type": "stream",
          "text": [
            "Training set: (80, 5)\n",
            "Testing set:  (20, 5)\n"
          ],
          "name": "stdout"
        }
      ]
    },
    {
      "cell_type": "code",
      "metadata": {
        "id": "O4JZtRHPKB-7",
        "colab_type": "code",
        "outputId": "fcb25c68-f25e-4776-c85d-dc679c2cbba8",
        "colab": {
          "base_uri": "https://localhost:8080/",
          "height": 204
        }
      },
      "source": [
        "import pandas as pd\n",
        "column_names = ['OPEN', 'HIGH', 'LOW','PRICE', 'VOLUME']\n",
        "\n",
        "df = pd.DataFrame(train_data, columns=column_names)\n",
        "df.head()\n",
        "#36.53,37.49,36.36,37.06,152078800.0"
      ],
      "execution_count": 159,
      "outputs": [
        {
          "output_type": "execute_result",
          "data": {
            "text/html": [
              "<div>\n",
              "<style scoped>\n",
              "    .dataframe tbody tr th:only-of-type {\n",
              "        vertical-align: middle;\n",
              "    }\n",
              "\n",
              "    .dataframe tbody tr th {\n",
              "        vertical-align: top;\n",
              "    }\n",
              "\n",
              "    .dataframe thead th {\n",
              "        text-align: right;\n",
              "    }\n",
              "</style>\n",
              "<table border=\"1\" class=\"dataframe\">\n",
              "  <thead>\n",
              "    <tr style=\"text-align: right;\">\n",
              "      <th></th>\n",
              "      <th>OPEN</th>\n",
              "      <th>HIGH</th>\n",
              "      <th>LOW</th>\n",
              "      <th>PRICE</th>\n",
              "      <th>VOLUME</th>\n",
              "    </tr>\n",
              "  </thead>\n",
              "  <tbody>\n",
              "    <tr>\n",
              "      <th>0</th>\n",
              "      <td>92.67</td>\n",
              "      <td>93.39</td>\n",
              "      <td>92.25</td>\n",
              "      <td>93.15</td>\n",
              "      <td>7006026.0</td>\n",
              "    </tr>\n",
              "    <tr>\n",
              "      <th>1</th>\n",
              "      <td>91.22</td>\n",
              "      <td>92.01</td>\n",
              "      <td>90.16</td>\n",
              "      <td>90.77</td>\n",
              "      <td>9001756.0</td>\n",
              "    </tr>\n",
              "    <tr>\n",
              "      <th>2</th>\n",
              "      <td>97.59</td>\n",
              "      <td>97.87</td>\n",
              "      <td>96.53</td>\n",
              "      <td>97.13</td>\n",
              "      <td>8054324.0</td>\n",
              "    </tr>\n",
              "    <tr>\n",
              "      <th>3</th>\n",
              "      <td>86.42</td>\n",
              "      <td>90.42</td>\n",
              "      <td>86.30</td>\n",
              "      <td>90.41</td>\n",
              "      <td>10028292.0</td>\n",
              "    </tr>\n",
              "    <tr>\n",
              "      <th>4</th>\n",
              "      <td>95.25</td>\n",
              "      <td>95.94</td>\n",
              "      <td>95.02</td>\n",
              "      <td>95.60</td>\n",
              "      <td>6099857.0</td>\n",
              "    </tr>\n",
              "  </tbody>\n",
              "</table>\n",
              "</div>"
            ],
            "text/plain": [
              "    OPEN   HIGH    LOW  PRICE      VOLUME\n",
              "0  92.67  93.39  92.25  93.15   7006026.0\n",
              "1  91.22  92.01  90.16  90.77   9001756.0\n",
              "2  97.59  97.87  96.53  97.13   8054324.0\n",
              "3  86.42  90.42  86.30  90.41  10028292.0\n",
              "4  95.25  95.94  95.02  95.60   6099857.0"
            ]
          },
          "metadata": {
            "tags": []
          },
          "execution_count": 159
        }
      ]
    },
    {
      "cell_type": "code",
      "metadata": {
        "id": "7Mr_jTxdKkJS",
        "colab_type": "code",
        "outputId": "3ef07ecb-3008-46b2-f2fc-5334ac35481b",
        "colab": {
          "base_uri": "https://localhost:8080/",
          "height": 34
        }
      },
      "source": [
        "print(train_labels[0:10])  # Display first 10 entries"
      ],
      "execution_count": 160,
      "outputs": [
        {
          "output_type": "stream",
          "text": [
            "[93.15 90.77 97.13 90.41 95.6  90.55 98.69 99.03 96.97 87.28]\n"
          ],
          "name": "stdout"
        }
      ]
    },
    {
      "cell_type": "code",
      "metadata": {
        "id": "PQKb-hSDKsUp",
        "colab_type": "code",
        "outputId": "aaf640d0-80c3-43c3-d374-d12c7633f108",
        "colab": {
          "base_uri": "https://localhost:8080/",
          "height": 51
        }
      },
      "source": [
        "# Test data is *not* used when calculating the mean and std\n",
        "\n",
        "mean = train_data.mean(axis=0)\n",
        "std = train_data.std(axis=0)\n",
        "train_data = (train_data - mean) / std\n",
        "test_data = (test_data - mean) / std\n",
        "\n",
        "\n",
        "\n",
        "\n",
        "print(train_data[0])  # First training sample, normalized\n",
        "print(train_labels.shape)"
      ],
      "execution_count": 161,
      "outputs": [
        {
          "output_type": "stream",
          "text": [
            "[-1.05146933 -1.16455299 -0.94533353 -0.94889191 -0.32441428]\n",
            "(80,)\n"
          ],
          "name": "stdout"
        }
      ]
    },
    {
      "cell_type": "code",
      "metadata": {
        "id": "lGl9uxBRKyKc",
        "colab_type": "code",
        "outputId": "751ecbb5-8750-4ab2-8e27-2fc6093be0e9",
        "colab": {
          "base_uri": "https://localhost:8080/",
          "height": 255
        }
      },
      "source": [
        "def build_model():\n",
        "  model = keras.Sequential([\n",
        "    keras.layers.Dense(64, activation=tf.nn.relu,input_shape=(train_data.shape[1],)),\n",
        "    keras.layers.Dense(64, activation=tf.nn.relu),\n",
        "    keras.layers.Dense(1)\n",
        "  ])\n",
        "\n",
        "  #optimizer = tf.train.RMSPropOptimizer(0.001).\n",
        "  optimizer = tf.keras.optimizers.RMSprop(0.001)\n",
        "\n",
        "  model.compile(loss='mse',\n",
        "                optimizer=optimizer,\n",
        "                metrics=['mae'])\n",
        "  return model\n",
        "\n",
        "model = build_model()\n",
        "model.summary()\n",
        "\n",
        "print(train_data.shape[1],)"
      ],
      "execution_count": 162,
      "outputs": [
        {
          "output_type": "stream",
          "text": [
            "_________________________________________________________________\n",
            "Layer (type)                 Output Shape              Param #   \n",
            "=================================================================\n",
            "dense (Dense)                (None, 64)                384       \n",
            "_________________________________________________________________\n",
            "dense_1 (Dense)              (None, 64)                4160      \n",
            "_________________________________________________________________\n",
            "dense_2 (Dense)              (None, 1)                 65        \n",
            "=================================================================\n",
            "Total params: 4,609\n",
            "Trainable params: 4,609\n",
            "Non-trainable params: 0\n",
            "_________________________________________________________________\n",
            "5\n"
          ],
          "name": "stdout"
        }
      ]
    },
    {
      "cell_type": "code",
      "metadata": {
        "id": "wYnShWaWK2m5",
        "colab_type": "code",
        "outputId": "7c5818f9-1280-4c9b-a1b4-8417d3722358",
        "colab": {
          "base_uri": "https://localhost:8080/",
          "height": 119
        }
      },
      "source": [
        "# Display training progress by printing a single dot for each completed epoch\n",
        "class PrintDot(keras.callbacks.Callback):\n",
        "  def on_epoch_end(self, epoch, logs):\n",
        "    if epoch % 100 == 0: print('')\n",
        "    print('.', end='')\n",
        "\n",
        "EPOCHS = 500\n",
        "\n",
        "# Store training stats\n",
        "history = model.fit(train_data, train_labels, epochs=EPOCHS,\n",
        "                    validation_split=0.2, verbose=0,\n",
        "                    callbacks=[PrintDot()])"
      ],
      "execution_count": 163,
      "outputs": [
        {
          "output_type": "stream",
          "text": [
            "\n",
            "....................................................................................................\n",
            "....................................................................................................\n",
            "....................................................................................................\n",
            "....................................................................................................\n",
            "...................................................................................................."
          ],
          "name": "stdout"
        }
      ]
    },
    {
      "cell_type": "code",
      "metadata": {
        "id": "v1r3jyVtLBwM",
        "colab_type": "code",
        "outputId": "33e604ca-1206-481a-d656-a92522ea903d",
        "colab": {
          "base_uri": "https://localhost:8080/",
          "height": 283
        }
      },
      "source": [
        "import matplotlib.pyplot as plt\n",
        "\n",
        "\n",
        "def plot_history(history):\n",
        "  plt.figure()\n",
        "  plt.xlabel('Epoch')\n",
        "  plt.ylabel('Mean Abs Error [1$]')\n",
        "  plt.plot(history.epoch, np.array(history.history['mean_absolute_error']),\n",
        "           label='Train Loss')\n",
        "  plt.plot(history.epoch, np.array(history.history['val_mean_absolute_error']),\n",
        "           label = 'Val loss')\n",
        "  plt.legend()\n",
        "  plt.ylim([0, 5])\n",
        "\n",
        "plot_history(history)"
      ],
      "execution_count": 164,
      "outputs": [
        {
          "output_type": "display_data",
          "data": {
            "image/png": "[encoded data removed]",
            "text/plain": [
              "<Figure size 432x288 with 1 Axes>"
            ]
          },
          "metadata": {
            "tags": []
          }
        }
      ]
    },
    {
      "cell_type": "code",
      "metadata": {
        "id": "yPZ_fcHsLKf8",
        "colab_type": "code",
        "outputId": "abc31004-b5dc-42b6-bb11-e34380aa37ed",
        "colab": {
          "base_uri": "https://localhost:8080/",
          "height": 351
        }
      },
      "source": [
        "model = build_model()\n",
        "\n",
        "# The patience parameter is the amount of epochs to check for improvement\n",
        "early_stop = keras.callbacks.EarlyStopping(monitor='val_loss', patience=0)\n",
        "\n",
        "history = model.fit(train_data, train_labels, epochs=EPOCHS,\n",
        "                    validation_split=0.2, verbose=0,\n",
        "                    callbacks=[early_stop, PrintDot()])\n",
        "\n",
        "plot_history(history)"
      ],
      "execution_count": 165,
      "outputs": [
        {
          "output_type": "stream",
          "text": [
            "\n",
            "....................................................................................................\n",
            "....................................................................................................\n",
            "...................................................................."
          ],
          "name": "stdout"
        },
        {
          "output_type": "display_data",
          "data": {
            "image/png": "[encoded data removed]",
            "text/plain": [
              "<Figure size 432x288 with 1 Axes>"
            ]
          },
          "metadata": {
            "tags": []
          }
        }
      ]
    },
    {
      "cell_type": "code",
      "metadata": {
        "id": "VEyI8Tw8LRrA",
        "colab_type": "code",
        "outputId": "f2b02d6a-af1a-47e6-d48e-874321c1575e",
        "colab": {
          "base_uri": "https://localhost:8080/",
          "height": 34
        }
      },
      "source": [
        "[loss, mae] = model.evaluate(test_data, test_labels, verbose=0)\n",
        "\n",
        "print(\"Testing set Mean Abs Error: ${:7.2f}\".format(mae * 1))"
      ],
      "execution_count": 166,
      "outputs": [
        {
          "output_type": "stream",
          "text": [
            "Testing set Mean Abs Error: $  17.91\n"
          ],
          "name": "stdout"
        }
      ]
    },
    {
      "cell_type": "code",
      "metadata": {
        "id": "mwRrA94QMIDx",
        "colab_type": "code",
        "outputId": "7640537c-f483-452b-ed2d-2ad17ed36d7f",
        "colab": {
          "base_uri": "https://localhost:8080/",
          "height": 351
        }
      },
      "source": [
        "#test_predictions = model.predict(test_data[[1]]).flatten()\n",
        "\n",
        "\n",
        "data = np.array([[-0.1037204,-0.14475672,-0.2594339,-0.0976705064,-0.6376169]])\n",
        "print(data.shape)\n",
        "test_predictions = model.predict(data).flatten()\n",
        "#plt.scatter(test_labels, test_predictions)\n",
        "plt.xlabel('True Values [1$]')\n",
        "plt.ylabel('Predictions [1$]')\n",
        "plt.axis('equal')\n",
        "plt.xlim(plt.xlim())\n",
        "plt.ylim(plt.ylim())\n",
        "_ = plt.plot([-100, 100], [-100, 100])\n",
        "#print(test_data[[0]])\n",
        "print(test_predictions)\n",
        "test_loss, test_acc = model.evaluate(test_data, test_labels)\n",
        "\n",
        "\n",
        "#print(test_data.all)\n",
        "print('Test accuracy this is still actually my mae:', test_acc)"
      ],
      "execution_count": 167,
      "outputs": [
        {
          "output_type": "stream",
          "text": [
            "(1, 5)\n",
            "[96.13313]\n",
            "\r20/20 [==============================] - 0s 45us/sample - loss: 390.8610 - mean_absolute_error: 17.9053\n",
            "Test accuracy this is still actually my mae: 17.905323\n"
          ],
          "name": "stdout"
        },
        {
          "output_type": "display_data",
          "data": {
            "image/png": "[encoded data removed]",
            "text/plain": [
              "<Figure size 432x288 with 1 Axes>"
            ]
          },
          "metadata": {
            "tags": []
          }
        }
      ]
    },
    {
      "cell_type": "code",
      "metadata": {
        "id": "inyfg0yjMRQx",
        "colab_type": "code",
        "outputId": "64c8f573-d60b-48e5-c53f-bf8c9753f5e8",
        "colab": {
          "base_uri": "https://localhost:8080/",
          "height": 283
        }
      },
      "source": [
        "error = test_predictions - test_labels\n",
        "#print(error)\n",
        "plt.hist(error, bins = 50)\n",
        "plt.xlabel(\"Prediction Error [1$]\")\n",
        "_ = plt.ylabel(\"Count\")\n",
        "\n"
      ],
      "execution_count": 168,
      "outputs": [
        {
          "output_type": "display_data",
          "data": {
            "image/png": "[encoded data removed]",
            "text/plain": [
              "<Figure size 432x288 with 1 Axes>"
            ]
          },
          "metadata": {
            "tags": []
          }
        }
      ]
    },
    {
      "cell_type": "code",
      "metadata": {
        "id": "GQCBrTW_MoOQ",
        "colab_type": "code",
        "colab": {}
      },
      "source": [
        "from tensorflow.contrib import lite\n",
        "\n",
        "keras_file = \"model.h5\"\n",
        "keras.models.save_model(model, keras_file)"
      ],
      "execution_count": 0,
      "outputs": []
    },
    {
      "cell_type": "code",
      "metadata": {
        "id": "HSHDMxxQMsJB",
        "colab_type": "code",
        "outputId": "31679a2b-8ac2-47ae-ca7d-46eb4356c4d9",
        "colab": {
          "base_uri": "https://localhost:8080/",
          "height": 68
        }
      },
      "source": [
        "converter = lite.TFLiteConverter.from_keras_model_file( 'model.h5' ) \n",
        "model = converter.convert()\n",
        "\n",
        "file = open( 'WMTmodel.tflite' , 'wb' ) \n",
        "file.write( model )"
      ],
      "execution_count": 170,
      "outputs": [
        {
          "output_type": "stream",
          "text": [
            "INFO:tensorflow:Froze 6 variables.\n",
            "INFO:tensorflow:Converted 6 variables to const ops.\n"
          ],
          "name": "stdout"
        },
        {
          "output_type": "execute_result",
          "data": {
            "text/plain": [
              "19656"
            ]
          },
          "metadata": {
            "tags": []
          },
          "execution_count": 170
        }
      ]
    },
    {
      "cell_type": "code",
      "metadata": {
        "id": "KAUCQyelNJme",
        "colab_type": "code",
        "colab": {}
      },
      "source": [
        "from google.colab import files\n",
        "\n",
        "\n",
        "#converter = lite.TocoConverter.from_keras_model_file(keras_file)\n",
        "\n",
        "#tflite_model = converter.convert()\n",
        "#open(\"model_.tflite\", \"wb\").write(tflite_model)\n",
        "\n",
        "files.download('WMTmodel.tflite')\n"
      ],
      "execution_count": 0,
      "outputs": []
    }
  ]
}