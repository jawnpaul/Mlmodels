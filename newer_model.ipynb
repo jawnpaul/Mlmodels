{
  "nbformat": 4,
  "nbformat_minor": 0,
  "metadata": {
    "colab": {
      "name": "newer_model.ipynb",
      "version": "0.3.2",
      "provenance": [],
      "collapsed_sections": [],
      "include_colab_link": true
    },
    "kernelspec": {
      "name": "python3",
      "display_name": "Python 3"
    }
  },
  "cells": [
    {
      "cell_type": "markdown",
      "metadata": {
        "id": "view-in-github",
        "colab_type": "text"
      },
      "source": [
        "<a href=\"https://colab.research.google.com/github/jawnpaul/Mlmodels/blob/master/newer_model.ipynb\" target=\"_parent\"><img src=\"https://colab.research.google.com/assets/colab-badge.svg\" alt=\"Open In Colab\"/></a>"
      ]
    },
    {
      "metadata": {
        "id": "V-UyUGzeJLNV",
        "colab_type": "code",
        "colab": {
          "base_uri": "https://localhost:8080/",
          "height": 34
        },
        "outputId": "7bd3e428-40cd-4f52-d768-cfaa83736458"
      },
      "cell_type": "code",
      "source": [
        "import numpy as np\n",
        "from numpy import genfromtxt\n",
        "\n",
        "import tensorflow as tf\n",
        "from tensorflow import keras\n",
        "import datetime as dt\n",
        "\n",
        "from tensorflow.contrib import lite\n",
        "\n",
        "my_data = genfromtxt('daily.csv', delimiter=',')\n",
        "\n",
        "\n",
        "\n",
        "#Ignore the first row \n",
        "my_data = (my_data[1:])\n",
        "#print(my_data.shape)\n",
        "\n",
        "#Ignore the first column\n",
        "my_data = (my_data[:,1:])\n",
        "#print(my_data.shape)\n",
        "\n",
        "#From 20 to the end\n",
        "train_data = (my_data[20:])\n",
        "#print(train_data.shape)\n",
        "#print(train_data)\n",
        "\n",
        "\n",
        "#From beginning to 20\n",
        "test_data = (my_data[:20])\n",
        "#print(test_data.shape)\n",
        "#print(test_data)\n",
        "\n",
        "#Get the price column\n",
        "#price_data = my_data[:,3]\n",
        "#print(price_data)\n",
        "\n",
        "#THe labels are the prices\n",
        "train_labels = train_data[:,3]\n",
        "\n",
        "test_labels = test_data[:,3]\n",
        "\n",
        "\n",
        "\n",
        "# Shuffle the training set\n",
        "order = np.argsort(np.random.random(train_labels.shape))\n",
        "train_data = train_data[order]\n",
        "train_labels = train_labels[order]\n",
        "\n",
        "#this deletes the price column\n",
        "#my_data = np.delete(my_data, 3, 1)\n",
        "#print(my_data)\n",
        "dd = list(train_data[0])\n",
        "print(len(dd))"
      ],
      "execution_count": 23,
      "outputs": [
        {
          "output_type": "stream",
          "text": [
            "5\n"
          ],
          "name": "stdout"
        }
      ]
    },
    {
      "metadata": {
        "id": "-JQ7GxzLJ8_P",
        "colab_type": "code",
        "colab": {
          "base_uri": "https://localhost:8080/",
          "height": 51
        },
        "outputId": "6caaf600-da62-4035-e92b-2e62b6f04079"
      },
      "cell_type": "code",
      "source": [
        "print(\"Training set: {}\".format(train_data.shape))  # 70 examples, 5 features\n",
        "print(\"Testing set:  {}\".format(test_data.shape))   # 30 examples, 5 features"
      ],
      "execution_count": 24,
      "outputs": [
        {
          "output_type": "stream",
          "text": [
            "Training set: (80, 5)\n",
            "Testing set:  (20, 5)\n"
          ],
          "name": "stdout"
        }
      ]
    },
    {
      "metadata": {
        "id": "O4JZtRHPKB-7",
        "colab_type": "code",
        "colab": {
          "base_uri": "https://localhost:8080/",
          "height": 204
        },
        "outputId": "1eb7c488-ccb3-4b84-8357-9a76cd522b17"
      },
      "cell_type": "code",
      "source": [
        "import pandas as pd\n",
        "column_names = ['OPEN', 'HIGH', 'LOW','PRICE', 'VOLUME']\n",
        "\n",
        "df = pd.DataFrame(train_data, columns=column_names)\n",
        "df.head()\n",
        "#36.53,37.49,36.36,37.06,152078800.0"
      ],
      "execution_count": 25,
      "outputs": [
        {
          "output_type": "execute_result",
          "data": {
            "text/html": [
              "<div>\n",
              "<style scoped>\n",
              "    .dataframe tbody tr th:only-of-type {\n",
              "        vertical-align: middle;\n",
              "    }\n",
              "\n",
              "    .dataframe tbody tr th {\n",
              "        vertical-align: top;\n",
              "    }\n",
              "\n",
              "    .dataframe thead th {\n",
              "        text-align: right;\n",
              "    }\n",
              "</style>\n",
              "<table border=\"1\" class=\"dataframe\">\n",
              "  <thead>\n",
              "    <tr style=\"text-align: right;\">\n",
              "      <th></th>\n",
              "      <th>OPEN</th>\n",
              "      <th>HIGH</th>\n",
              "      <th>LOW</th>\n",
              "      <th>PRICE</th>\n",
              "      <th>VOLUME</th>\n",
              "    </tr>\n",
              "  </thead>\n",
              "  <tbody>\n",
              "    <tr>\n",
              "      <th>0</th>\n",
              "      <td>110.33</td>\n",
              "      <td>111.115</td>\n",
              "      <td>109.03</td>\n",
              "      <td>110.19</td>\n",
              "      <td>28123195.0</td>\n",
              "    </tr>\n",
              "    <tr>\n",
              "      <th>1</th>\n",
              "      <td>114.19</td>\n",
              "      <td>114.570</td>\n",
              "      <td>113.68</td>\n",
              "      <td>114.37</td>\n",
              "      <td>21647811.0</td>\n",
              "    </tr>\n",
              "    <tr>\n",
              "      <th>2</th>\n",
              "      <td>108.10</td>\n",
              "      <td>108.260</td>\n",
              "      <td>104.47</td>\n",
              "      <td>104.97</td>\n",
              "      <td>39495141.0</td>\n",
              "    </tr>\n",
              "    <tr>\n",
              "      <th>3</th>\n",
              "      <td>109.01</td>\n",
              "      <td>111.240</td>\n",
              "      <td>107.12</td>\n",
              "      <td>109.57</td>\n",
              "      <td>47742109.0</td>\n",
              "    </tr>\n",
              "    <tr>\n",
              "      <th>4</th>\n",
              "      <td>109.54</td>\n",
              "      <td>111.410</td>\n",
              "      <td>108.95</td>\n",
              "      <td>111.00</td>\n",
              "      <td>31610164.0</td>\n",
              "    </tr>\n",
              "  </tbody>\n",
              "</table>\n",
              "</div>"
            ],
            "text/plain": [
              "     OPEN     HIGH     LOW   PRICE      VOLUME\n",
              "0  110.33  111.115  109.03  110.19  28123195.0\n",
              "1  114.19  114.570  113.68  114.37  21647811.0\n",
              "2  108.10  108.260  104.47  104.97  39495141.0\n",
              "3  109.01  111.240  107.12  109.57  47742109.0\n",
              "4  109.54  111.410  108.95  111.00  31610164.0"
            ]
          },
          "metadata": {
            "tags": []
          },
          "execution_count": 25
        }
      ]
    },
    {
      "metadata": {
        "id": "7Mr_jTxdKkJS",
        "colab_type": "code",
        "colab": {
          "base_uri": "https://localhost:8080/",
          "height": 34
        },
        "outputId": "15e94e7c-2c02-4b4d-ec0d-e576e0407773"
      },
      "cell_type": "code",
      "source": [
        "print(train_labels[0:10])  # Display first 10 entries"
      ],
      "execution_count": 26,
      "outputs": [
        {
          "output_type": "stream",
          "text": [
            "[110.19 114.37 104.97 109.57 111.   109.38 115.15 107.14 114.41 109.6 ]\n"
          ],
          "name": "stdout"
        }
      ]
    },
    {
      "metadata": {
        "id": "PQKb-hSDKsUp",
        "colab_type": "code",
        "colab": {
          "base_uri": "https://localhost:8080/",
          "height": 51
        },
        "outputId": "c703ab1c-2cbd-4a10-a134-75fc72f5e1ac"
      },
      "cell_type": "code",
      "source": [
        "# Test data is *not* used when calculating the mean and std\n",
        "\n",
        "mean = train_data.mean(axis=0)\n",
        "std = train_data.std(axis=0)\n",
        "train_data = (train_data - mean) / std\n",
        "test_data = (test_data - mean) / std\n",
        "\n",
        "\n",
        "\n",
        "\n",
        "print(train_data[0])  # First training sample, normalized\n",
        "print(train_labels.shape)"
      ],
      "execution_count": 35,
      "outputs": [
        {
          "output_type": "stream",
          "text": [
            "[ 0.26981986  0.17510609  0.29724782  0.2725347  -0.46776625]\n",
            "(80,)\n"
          ],
          "name": "stdout"
        }
      ]
    },
    {
      "metadata": {
        "id": "lGl9uxBRKyKc",
        "colab_type": "code",
        "colab": {
          "base_uri": "https://localhost:8080/",
          "height": 255
        },
        "outputId": "7743b4d9-7a17-4910-ca0c-f2515935632c"
      },
      "cell_type": "code",
      "source": [
        "def build_model():\n",
        "  model = keras.Sequential([\n",
        "    keras.layers.Dense(64, activation=tf.nn.relu,input_shape=(train_data.shape[1],)),\n",
        "    keras.layers.Dense(64, activation=tf.nn.relu),\n",
        "    keras.layers.Dense(1)\n",
        "  ])\n",
        "\n",
        "  optimizer = tf.train.RMSPropOptimizer(0.001)\n",
        "\n",
        "  model.compile(loss='mse',\n",
        "                optimizer=optimizer,\n",
        "                metrics=['mae'])\n",
        "  return model\n",
        "\n",
        "model = build_model()\n",
        "model.summary()\n",
        "\n",
        "print(train_data.shape[1],)"
      ],
      "execution_count": 27,
      "outputs": [
        {
          "output_type": "stream",
          "text": [
            "_________________________________________________________________\n",
            "Layer (type)                 Output Shape              Param #   \n",
            "=================================================================\n",
            "dense_9 (Dense)              (None, 64)                384       \n",
            "_________________________________________________________________\n",
            "dense_10 (Dense)             (None, 64)                4160      \n",
            "_________________________________________________________________\n",
            "dense_11 (Dense)             (None, 1)                 65        \n",
            "=================================================================\n",
            "Total params: 4,609\n",
            "Trainable params: 4,609\n",
            "Non-trainable params: 0\n",
            "_________________________________________________________________\n",
            "5\n"
          ],
          "name": "stdout"
        }
      ]
    },
    {
      "metadata": {
        "id": "wYnShWaWK2m5",
        "colab_type": "code",
        "colab": {
          "base_uri": "https://localhost:8080/",
          "height": 119
        },
        "outputId": "73d5c723-6e5a-4e94-939d-7e8f64ba77f4"
      },
      "cell_type": "code",
      "source": [
        "# Display training progress by printing a single dot for each completed epoch\n",
        "class PrintDot(keras.callbacks.Callback):\n",
        "  def on_epoch_end(self, epoch, logs):\n",
        "    if epoch % 100 == 0: print('')\n",
        "    print('.', end='')\n",
        "\n",
        "EPOCHS = 500\n",
        "\n",
        "# Store training stats\n",
        "history = model.fit(train_data, train_labels, epochs=EPOCHS,\n",
        "                    validation_split=0.2, verbose=0,\n",
        "                    callbacks=[PrintDot()])"
      ],
      "execution_count": 36,
      "outputs": [
        {
          "output_type": "stream",
          "text": [
            "\n",
            "....................................................................................................\n",
            "....................................................................................................\n",
            "....................................................................................................\n",
            "....................................................................................................\n",
            "...................................................................................................."
          ],
          "name": "stdout"
        }
      ]
    },
    {
      "metadata": {
        "id": "v1r3jyVtLBwM",
        "colab_type": "code",
        "colab": {
          "base_uri": "https://localhost:8080/",
          "height": 365
        },
        "outputId": "8ca0977a-56e1-46d4-ed3d-ca1a4aceb5e3"
      },
      "cell_type": "code",
      "source": [
        "import matplotlib.pyplot as plt\n",
        "\n",
        "\n",
        "def plot_history(history):\n",
        "  plt.figure()\n",
        "  plt.xlabel('Epoch')\n",
        "  plt.ylabel('Mean Abs Error [1$]')\n",
        "  plt.plot(history.epoch, np.array(history.history['mean_absolute_error']),\n",
        "           label='Train Loss')\n",
        "  plt.plot(history.epoch, np.array(history.history['val_mean_absolute_error']),\n",
        "           label = 'Val loss')\n",
        "  plt.legend()\n",
        "  plt.ylim([0, 5])\n",
        "\n",
        "plot_history(history)"
      ],
      "execution_count": 37,
      "outputs": [
        {
          "output_type": "display_data",
          "data": {
            "image/png": "[encoded data removed]",
            "text/plain": [
              "<Figure size 576x396 with 1 Axes>"
            ]
          },
          "metadata": {
            "tags": []
          }
        }
      ]
    },
    {
      "metadata": {
        "id": "yPZ_fcHsLKf8",
        "colab_type": "code",
        "colab": {
          "base_uri": "https://localhost:8080/",
          "height": 433
        },
        "outputId": "ce653c19-2945-4301-cb4b-953c7b377ee6"
      },
      "cell_type": "code",
      "source": [
        "model = build_model()\n",
        "\n",
        "# The patience parameter is the amount of epochs to check for improvement\n",
        "early_stop = keras.callbacks.EarlyStopping(monitor='val_loss', patience=0)\n",
        "\n",
        "history = model.fit(train_data, train_labels, epochs=EPOCHS,\n",
        "                    validation_split=0.2, verbose=0,\n",
        "                    callbacks=[early_stop, PrintDot()])\n",
        "\n",
        "plot_history(history)"
      ],
      "execution_count": 38,
      "outputs": [
        {
          "output_type": "stream",
          "text": [
            "\n",
            "....................................................................................................\n",
            "....................................................................................................\n",
            "..........................."
          ],
          "name": "stdout"
        },
        {
          "output_type": "display_data",
          "data": {
            "image/png": "[encoded data removed]",
            "text/plain": [
              "<Figure size 576x396 with 1 Axes>"
            ]
          },
          "metadata": {
            "tags": []
          }
        }
      ]
    },
    {
      "metadata": {
        "id": "VEyI8Tw8LRrA",
        "colab_type": "code",
        "colab": {
          "base_uri": "https://localhost:8080/",
          "height": 34
        },
        "outputId": "e532f6fc-2938-4fd2-b191-497a85eda5c7"
      },
      "cell_type": "code",
      "source": [
        "[loss, mae] = model.evaluate(test_data, test_labels, verbose=0)\n",
        "\n",
        "print(\"Testing set Mean Abs Error: ${:7.2f}\".format(mae * 1))"
      ],
      "execution_count": 39,
      "outputs": [
        {
          "output_type": "stream",
          "text": [
            "Testing set Mean Abs Error: $  26.77\n"
          ],
          "name": "stdout"
        }
      ]
    },
    {
      "metadata": {
        "id": "mwRrA94QMIDx",
        "colab_type": "code",
        "colab": {
          "base_uri": "https://localhost:8080/",
          "height": 429
        },
        "outputId": "eb7f4ab4-f110-461e-eadd-116724083442"
      },
      "cell_type": "code",
      "source": [
        "#test_predictions = model.predict(test_data[[1]]).flatten()\n",
        "\n",
        "\n",
        "data = np.array([[-0.1037204,-0.14475672,-0.2594339,-0.0976705064,-0.6376169]])\n",
        "print(data.shape)\n",
        "test_predictions = model.predict(data).flatten()\n",
        "#plt.scatter(test_labels, test_predictions)\n",
        "plt.xlabel('True Values [1$]')\n",
        "plt.ylabel('Predictions [1$]')\n",
        "plt.axis('equal')\n",
        "plt.xlim(plt.xlim())\n",
        "plt.ylim(plt.ylim())\n",
        "_ = plt.plot([-100, 100], [-100, 100])\n",
        "#print(test_data[[0]])\n",
        "print(test_predictions)\n",
        "test_loss, test_acc = model.evaluate(test_data, test_labels)\n",
        "\n",
        "\n",
        "#print(test_data.all)\n",
        "print('Test accuracy this is still actually my mae:', test_acc)"
      ],
      "execution_count": 42,
      "outputs": [
        {
          "output_type": "stream",
          "text": [
            "(1, 5)\n",
            "[109.099434]\n",
            "\r20/20 [==============================] - 0s 55us/step\n",
            "Test accuracy this is still actually my mae: 26.768203735351562\n"
          ],
          "name": "stdout"
        },
        {
          "output_type": "display_data",
          "data": {
            "image/png": "[encoded data removed]",
            "text/plain": [
              "<Figure size 576x396 with 1 Axes>"
            ]
          },
          "metadata": {
            "tags": []
          }
        }
      ]
    },
    {
      "metadata": {
        "id": "inyfg0yjMRQx",
        "colab_type": "code",
        "colab": {
          "base_uri": "https://localhost:8080/",
          "height": 361
        },
        "outputId": "972064d6-914f-4140-88e8-91de36bf3ca9"
      },
      "cell_type": "code",
      "source": [
        "error = test_predictions - test_labels\n",
        "#print(error)\n",
        "plt.hist(error, bins = 50)\n",
        "plt.xlabel(\"Prediction Error [1$]\")\n",
        "_ = plt.ylabel(\"Count\")\n",
        "\n"
      ],
      "execution_count": 43,
      "outputs": [
        {
          "output_type": "display_data",
          "data": {
            "image/png": "[encoded data removed]",
            "text/plain": [
              "<Figure size 576x396 with 1 Axes>"
            ]
          },
          "metadata": {
            "tags": []
          }
        }
      ]
    },
    {
      "metadata": {
        "id": "GQCBrTW_MoOQ",
        "colab_type": "code",
        "colab": {
          "base_uri": "https://localhost:8080/",
          "height": 54
        },
        "outputId": "809c1070-b85f-4a0f-b961-b224c10d2ef2"
      },
      "cell_type": "code",
      "source": [
        "from tensorflow.contrib import lite\n",
        "\n",
        "keras_file = \"model.h5\"\n",
        "keras.models.save_model(model, keras_file)"
      ],
      "execution_count": 20,
      "outputs": [
        {
          "output_type": "stream",
          "text": [
            "WARNING:tensorflow:TensorFlow optimizers do not make it possible to access optimizer attributes or optimizer state after instantiation. As a result, we cannot save the optimizer as part of the model save file.You will have to compile your model again after loading it. Prefer using a Keras optimizer instead (see keras.io/optimizers).\n"
          ],
          "name": "stdout"
        }
      ]
    },
    {
      "metadata": {
        "id": "HSHDMxxQMsJB",
        "colab_type": "code",
        "colab": {
          "base_uri": "https://localhost:8080/",
          "height": 105
        },
        "outputId": "cc61070a-5f71-4b0f-f592-9d6a49060dc6"
      },
      "cell_type": "code",
      "source": [
        "converter = lite.TFLiteConverter.from_keras_model_file( 'model.h5' ) \n",
        "model = converter.convert()\n",
        "\n",
        "file = open( 'model.tflite' , 'wb' ) \n",
        "file.write( model )"
      ],
      "execution_count": 21,
      "outputs": [
        {
          "output_type": "stream",
          "text": [
            "WARNING:tensorflow:No training configuration found in save file: the model was *not* compiled. Compile it manually.\n",
            "INFO:tensorflow:Froze 6 variables.\n",
            "INFO:tensorflow:Converted 6 variables to const ops.\n"
          ],
          "name": "stdout"
        },
        {
          "output_type": "execute_result",
          "data": {
            "text/plain": [
              "19668"
            ]
          },
          "metadata": {
            "tags": []
          },
          "execution_count": 21
        }
      ]
    },
    {
      "metadata": {
        "id": "KAUCQyelNJme",
        "colab_type": "code",
        "colab": {}
      },
      "cell_type": "code",
      "source": [
        "from google.colab import files\n",
        "\n",
        "\n",
        "#converter = lite.TocoConverter.from_keras_model_file(keras_file)\n",
        "\n",
        "#tflite_model = converter.convert()\n",
        "#open(\"model_.tflite\", \"wb\").write(tflite_model)\n",
        "\n",
        "files.download('model.tflite')\n"
      ],
      "execution_count": 0,
      "outputs": []
    }
  ]
}